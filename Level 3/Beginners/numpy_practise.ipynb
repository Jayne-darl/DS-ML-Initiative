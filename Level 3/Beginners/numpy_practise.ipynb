{
 "cells": [
  {
   "cell_type": "code",
   "execution_count": 2,
   "id": "christian-appraisal",
   "metadata": {},
   "outputs": [
    {
     "name": "stdout",
     "output_type": "stream",
     "text": [
      "[[100 110]\n",
      " [120 130]\n",
      " [140 150]\n",
      " [160 170]\n",
      " [180 190]]\n"
     ]
    }
   ],
   "source": [
    "import numpy as np\n",
    "\"\"\"\n",
    "Exercise 1: Create a 5X2 integer array from a range between 100 to 200 such that the difference between each element is 10\n",
    "Expected Output:\n",
    "\n",
    "Creating 5X2 array using numpy.arange\n",
    "[[100 110]\n",
    " [120 130]\n",
    " [140 150]\n",
    " [160 170]\n",
    " [180 190]]\n",
    "\"\"\"\n",
    "\n",
    "num_array = np.arange(100, 200, 10)\n",
    "num_array = num_array.reshape(5,2)\n",
    "print(num_array)"
   ]
  },
  {
   "cell_type": "code",
   "execution_count": 3,
   "id": "cellular-grill",
   "metadata": {},
   "outputs": [
    {
     "name": "stdout",
     "output_type": "stream",
     "text": [
      "[33 66 99]\n"
     ]
    }
   ],
   "source": [
    "\"\"\"\n",
    "Exercise 2: Following is the provided numPy array. return array of items in the third column from all rows\n",
    "import numpy\n",
    "sampleArray = numpy.array([[11 ,22, 33], [44, 55, 66], [77, 88, 99]])\n",
    "Expected Output:\n",
    "\n",
    "Printing Input Array\n",
    "[[11 22 33]\n",
    " [44 55 66]\n",
    " [77 88 99]]\n",
    "\n",
    " Printing array of items in the third column from all rows\n",
    "[33 66 99]\n",
    "\"\"\"\n",
    "\n",
    "sample_array = np.array([(11,22,33),(44,55,66),(77,88,99)])\n",
    "\n",
    "print(sample_array[0:,2])"
   ]
  },
  {
   "cell_type": "code",
   "execution_count": 4,
   "id": "economic-qualification",
   "metadata": {},
   "outputs": [
    {
     "name": "stdout",
     "output_type": "stream",
     "text": [
      "[[ 400 1521 1089]\n",
      " [ 625  625  784]]\n"
     ]
    }
   ],
   "source": [
    "\"\"\"\n",
    "Exercise 3: Add the following two NumPy arrays and Modify a result array by calculating the square of each element\n",
    "import numpy\n",
    "\n",
    "arrayOne = numpy.array([[5, 6, 9], [21 ,18, 27]])\n",
    "arrayTwo = numpy.array([[15 ,33, 24], [4 ,7, 1]])\n",
    "Expected Output:\n",
    "\n",
    "addition of two arrays is \n",
    "\n",
    "[[20 39 33]\n",
    " [25 25 28]]\n",
    "\n",
    "Result array after calculating the square root of all elements\n",
    "\n",
    "[[ 400 1521 1089]\n",
    " [ 625  625  784]]\n",
    "\"\"\"\n",
    "\n",
    "array_one = np.array([[5, 6, 9], [21 ,18, 27]])\n",
    "array_two = np.array([[15 ,33, 24], [4 ,7, 1]])\n",
    "array_sum = array_one + array_two\n",
    "print(np.square(array_sum))"
   ]
  },
  {
   "cell_type": "code",
   "execution_count": null,
   "id": "satisfactory-information",
   "metadata": {},
   "outputs": [],
   "source": [
    " "
   ]
  }
 ],
 "metadata": {
  "kernelspec": {
   "display_name": "Python 3",
   "language": "python",
   "name": "python3"
  },
  "language_info": {
   "codemirror_mode": {
    "name": "ipython",
    "version": 3
   },
   "file_extension": ".py",
   "mimetype": "text/x-python",
   "name": "python",
   "nbconvert_exporter": "python",
   "pygments_lexer": "ipython3",
   "version": "3.8.8"
  }
 },
 "nbformat": 4,
 "nbformat_minor": 5
}
